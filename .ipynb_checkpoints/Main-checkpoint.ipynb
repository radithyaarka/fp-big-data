{
 "cells": [
  {
   "cell_type": "code",
   "execution_count": null,
   "id": "3f04a173",
   "metadata": {},
   "outputs": [
    {
     "ename": "",
     "evalue": "",
     "output_type": "error",
     "traceback": [
      "\u001b[1;31mRunning cells with 'base (Python 3.12.4)' requires the ipykernel package.\n",
      "\u001b[1;31mRun the following command to install 'ipykernel' into the Python environment. \n",
      "\u001b[1;31mCommand: 'conda install -n base ipykernel --update-deps --force-reinstall'"
     ]
    }
   ],
   "source": [
    "import pandas as pd"
   ]
  },
  {
   "cell_type": "code",
   "execution_count": null,
   "id": "dead6fc2",
   "metadata": {},
   "outputs": [],
   "source": [
    "movies=pd.read_csv('dataset.csv')"
   ]
  },
  {
   "cell_type": "code",
   "execution_count": null,
   "id": "5b1a49bf",
   "metadata": {},
   "outputs": [],
   "source": [
    "movies.head(10)"
   ]
  },
  {
   "cell_type": "code",
   "execution_count": null,
   "id": "7485c5d2",
   "metadata": {},
   "outputs": [],
   "source": [
    "movies.describe()"
   ]
  },
  {
   "cell_type": "code",
   "execution_count": null,
   "id": "017fc86e",
   "metadata": {},
   "outputs": [],
   "source": [
    "movies.info()"
   ]
  },
  {
   "cell_type": "code",
   "execution_count": null,
   "id": "903ea29b",
   "metadata": {},
   "outputs": [],
   "source": [
    "movies.isnull().sum()"
   ]
  },
  {
   "cell_type": "markdown",
   "id": "8d08a5cf",
   "metadata": {},
   "source": [
    "Feature Selection Part"
   ]
  },
  {
   "cell_type": "code",
   "execution_count": null,
   "id": "f4c03a00",
   "metadata": {},
   "outputs": [],
   "source": [
    "movies.columns"
   ]
  },
  {
   "cell_type": "code",
   "execution_count": null,
   "id": "0a54c777",
   "metadata": {},
   "outputs": [],
   "source": [
    "movies=movies[['id', 'title', 'overview', 'genre']]"
   ]
  },
  {
   "cell_type": "code",
   "execution_count": null,
   "id": "9e6b07f3",
   "metadata": {},
   "outputs": [],
   "source": [
    "movies"
   ]
  },
  {
   "cell_type": "code",
   "execution_count": null,
   "id": "e6677b81",
   "metadata": {},
   "outputs": [],
   "source": [
    "movies['tags'] = movies['overview']+movies['genre']"
   ]
  },
  {
   "cell_type": "code",
   "execution_count": null,
   "id": "c8bd5650",
   "metadata": {},
   "outputs": [],
   "source": [
    "movies"
   ]
  },
  {
   "cell_type": "code",
   "execution_count": null,
   "id": "30e6fe24",
   "metadata": {},
   "outputs": [],
   "source": [
    "new_data  = movies.drop(columns=['overview', 'genre'])"
   ]
  },
  {
   "cell_type": "code",
   "execution_count": null,
   "id": "c7469d83",
   "metadata": {},
   "outputs": [],
   "source": [
    "new_data"
   ]
  },
  {
   "cell_type": "code",
   "execution_count": null,
   "id": "5c40b711",
   "metadata": {},
   "outputs": [],
   "source": [
    "from sklearn.feature_extraction.text import CountVectorizer"
   ]
  },
  {
   "cell_type": "code",
   "execution_count": null,
   "id": "1ef07ab5",
   "metadata": {},
   "outputs": [],
   "source": [
    "cv=CountVectorizer(max_features=10000, stop_words='english')"
   ]
  },
  {
   "cell_type": "code",
   "execution_count": null,
   "id": "5f47235f",
   "metadata": {},
   "outputs": [],
   "source": [
    "cv"
   ]
  },
  {
   "cell_type": "code",
   "execution_count": null,
   "id": "47d712fd",
   "metadata": {},
   "outputs": [],
   "source": [
    "vector=cv.fit_transform(new_data['tags'].values.astype('U')).toarray()"
   ]
  },
  {
   "cell_type": "code",
   "execution_count": null,
   "id": "626e5066",
   "metadata": {},
   "outputs": [],
   "source": [
    "vector.shape"
   ]
  },
  {
   "cell_type": "code",
   "execution_count": null,
   "id": "9858a65d",
   "metadata": {},
   "outputs": [],
   "source": [
    "from sklearn.metrics.pairwise import cosine_similarity"
   ]
  },
  {
   "cell_type": "code",
   "execution_count": null,
   "id": "0851120b",
   "metadata": {},
   "outputs": [],
   "source": [
    "similarity=cosine_similarity(vector)"
   ]
  },
  {
   "cell_type": "code",
   "execution_count": null,
   "id": "70d0277a",
   "metadata": {},
   "outputs": [],
   "source": [
    "similarity"
   ]
  },
  {
   "cell_type": "code",
   "execution_count": null,
   "id": "33767086",
   "metadata": {},
   "outputs": [],
   "source": [
    "new_data[new_data['title']==\"The Godfather\"].index[0]"
   ]
  },
  {
   "cell_type": "code",
   "execution_count": null,
   "id": "18f8e048",
   "metadata": {},
   "outputs": [],
   "source": [
    "distance = sorted(list(enumerate(similarity[2])), reverse=True, key=lambda vector:vector[1])\n",
    "for i in distance[0:5]:\n",
    "    print(new_data.iloc[i[0]].title)"
   ]
  },
  {
   "cell_type": "code",
   "execution_count": null,
   "id": "abc0f54e",
   "metadata": {},
   "outputs": [],
   "source": [
    "def recommend(movies):\n",
    "    index=new_data[new_data['title']==movies].index[0]\n",
    "    distance = sorted(list(enumerate(similarity[index])), reverse=True, key=lambda vector:vector[1])\n",
    "    for i in distance[0:5]:\n",
    "        print(new_data.iloc[i[0]].title)"
   ]
  },
  {
   "cell_type": "code",
   "execution_count": null,
   "id": "45f26d8e",
   "metadata": {},
   "outputs": [],
   "source": [
    "recommend(\"Iron Man\")"
   ]
  },
  {
   "cell_type": "code",
   "execution_count": null,
   "id": "27f3c2d2",
   "metadata": {},
   "outputs": [],
   "source": [
    "import pickle"
   ]
  },
  {
   "cell_type": "code",
   "execution_count": null,
   "id": "2662fb93",
   "metadata": {},
   "outputs": [],
   "source": [
    "pickle.dump(new_data, open('movies_list.pkl', 'wb'))"
   ]
  },
  {
   "cell_type": "code",
   "execution_count": null,
   "id": "73e32c4e",
   "metadata": {},
   "outputs": [],
   "source": [
    "pickle.dump(similarity, open('similarity.pkl', 'wb'))"
   ]
  },
  {
   "cell_type": "code",
   "execution_count": null,
   "id": "e96d2c35",
   "metadata": {},
   "outputs": [],
   "source": [
    "pickle.load(open('movies_list.pkl', 'rb'))"
   ]
  },
  {
   "cell_type": "code",
   "execution_count": null,
   "id": "ae20e180",
   "metadata": {},
   "outputs": [],
   "source": []
  }
 ],
 "metadata": {
  "kernelspec": {
   "display_name": "base",
   "language": "python",
   "name": "python3"
  },
  "language_info": {
   "codemirror_mode": {
    "name": "ipython",
    "version": 3
   },
   "file_extension": ".py",
   "mimetype": "text/x-python",
   "name": "python",
   "nbconvert_exporter": "python",
   "pygments_lexer": "ipython3",
   "version": "3.12.4"
  }
 },
 "nbformat": 4,
 "nbformat_minor": 5
}
